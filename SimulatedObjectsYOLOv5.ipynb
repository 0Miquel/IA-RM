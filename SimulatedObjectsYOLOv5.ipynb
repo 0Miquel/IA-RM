{
  "nbformat": 4,
  "nbformat_minor": 0,
  "metadata": {
    "colab": {
      "name": "SimulatedObjectsYOLOv5.ipynb",
      "provenance": [],
      "collapsed_sections": [],
      "authorship_tag": "ABX9TyPmnCzkJRU+W9HZB0Z3E5Md",
      "include_colab_link": true
    },
    "kernelspec": {
      "name": "python3",
      "display_name": "Python 3"
    },
    "language_info": {
      "name": "python"
    }
  },
  "cells": [
    {
      "cell_type": "markdown",
      "metadata": {
        "id": "view-in-github",
        "colab_type": "text"
      },
      "source": [
        "<a href=\"https://colab.research.google.com/github/0Miquel/IA-RM/blob/main/SimulatedObjectsYOLOv5.ipynb\" target=\"_parent\"><img src=\"https://colab.research.google.com/assets/colab-badge.svg\" alt=\"Open In Colab\"/></a>"
      ]
    },
    {
      "cell_type": "markdown",
      "metadata": {
        "id": "xJoWU_N7TIkI"
      },
      "source": [
        "<img src=\"https://user-images.githubusercontent.com/26833433/82952157-51b7db00-9f5d-11ea-8f4b-dda1ffecf992.jpg\">\n",
        "\n",
        "<img src=\"https://i.imgur.com/gb6B4ig.png\" width=\"400\" alt=\"Weights & Biases\" />\n"
      ]
    },
    {
      "cell_type": "markdown",
      "metadata": {
        "id": "n9IeAbHoT43d"
      },
      "source": [
        "# 0. Acknowlegments\n",
        "\n",
        "[Tutorial](https://colab.research.google.com/github/wandb/examples/blob/master/colabs/yolo/Train_and_Debug_YOLOv5_Models_with_Weights_%26_Biases.ipynb) from WandB team"
      ]
    },
    {
      "cell_type": "markdown",
      "metadata": {
        "id": "ODRXsTUzJGF4"
      },
      "source": [
        "# 1. Setup"
      ]
    },
    {
      "cell_type": "markdown",
      "metadata": {
        "id": "5KOb-9AbJF4Z"
      },
      "source": [
        "Firstly we download\n",
        "[YOLOv5 GitHub repo](https://github.com/ultralytics/yolov5).\n",
        "\n",
        "Then, we downlaod YOLOv5 requirements."
      ]
    },
    {
      "cell_type": "code",
      "metadata": {
        "id": "UdIdsM9RZAhv"
      },
      "source": [
        ""
      ],
      "execution_count": null,
      "outputs": []
    },
    {
      "cell_type": "code",
      "metadata": {
        "id": "fcekuq1GJCLU"
      },
      "source": [
        "%%capture\n",
        "!git clone https://github.com/ultralytics/yolov5.git\n",
        "%cd yolov5\n",
        "!pip install -r requirements.txt # Downlaod YOLOv5 requirements.\n",
        "!pip install wandb # Install wandb"
      ],
      "execution_count": null,
      "outputs": []
    },
    {
      "cell_type": "markdown",
      "metadata": {
        "id": "w7d3yZRFSDcC"
      },
      "source": [
        "# 2. Dataset"
      ]
    },
    {
      "cell_type": "markdown",
      "metadata": {
        "id": "rKJe8yBfSOPd"
      },
      "source": [
        "The next step is downloading the custom dataset.\n",
        "\n",
        "The dataset was created manually using [labelme](https://github.com/wkentaro/labelme) tool. Then, we applied Data Augmentation using [Roboflow](https://app.roboflow.com/)"
      ]
    },
    {
      "cell_type": "code",
      "metadata": {
        "id": "LP6nDYL9SzZo"
      },
      "source": [
        "!curl -L \"https://app.roboflow.com/ds/o032xnyOfQ?key=F1k7Kq0q2j\" > roboflow.zip; unzip -o roboflow.zip; rm roboflow.zip # Load Roboflow dataset."
      ],
      "execution_count": null,
      "outputs": []
    },
    {
      "cell_type": "markdown",
      "metadata": {
        "id": "P8FLJ5wDJGDI"
      },
      "source": [
        "# 3. Train"
      ]
    },
    {
      "cell_type": "markdown",
      "metadata": {
        "id": "rkHxVlayJGIo"
      },
      "source": [
        "For training we simply execute *train.py* with a set of arguments.\n",
        "\n",
        "**YOLOv5** has **WandB** integrated in trainings, that makes easy the training metrics' monitoring.\n",
        "\n",
        "To train it with our data we parametrice it with data.yaml, whose has information about classes and subsets of the dataset.\n",
        "\n",
        "Además otra serie de argumentos que comentamos más abajo.\n",
        "\n",
        "A part from that, we feed it with some other arguments\n",
        "\n"
      ]
    },
    {
      "cell_type": "code",
      "metadata": {
        "id": "t_T1-NBvJGPF"
      },
      "source": [
        "!python train.py \\\n",
        "  --data ../data.yaml \\ # .yaml file with the dataset information\n",
        "  --epochs 90 \\ # number of epochs during training\n",
        "  --project yolo-wandb-IS \\ # reference to our wandb project\n",
        "  --upload_dataset \\ # creates a wandb artifact with our dataset\n",
        "  --bbox_interval 1 \\ # timing for each saving wandb bbox, useful for the integrated bbox debugger \n",
        "  --save_period 1 # timing for each training checkpoint"
      ],
      "execution_count": null,
      "outputs": []
    }
  ]
}