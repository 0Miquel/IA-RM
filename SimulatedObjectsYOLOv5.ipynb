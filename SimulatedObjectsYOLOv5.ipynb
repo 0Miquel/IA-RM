{
  "nbformat": 4,
  "nbformat_minor": 0,
  "metadata": {
    "colab": {
      "name": "SimulatedObjectsYOLOv5.ipynb",
      "provenance": [],
      "collapsed_sections": [],
      "authorship_tag": "ABX9TyN4Mmryo5nR6xPq3kJPfNya",
      "include_colab_link": true
    },
    "kernelspec": {
      "name": "python3",
      "display_name": "Python 3"
    },
    "language_info": {
      "name": "python"
    }
  },
  "cells": [
    {
      "cell_type": "markdown",
      "metadata": {
        "id": "view-in-github",
        "colab_type": "text"
      },
      "source": [
        "<a href=\"https://colab.research.google.com/github/0Miquel/IA-RM/blob/main/SimulatedObjectsYOLOv5.ipynb\" target=\"_parent\"><img src=\"https://colab.research.google.com/assets/colab-badge.svg\" alt=\"Open In Colab\"/></a>"
      ]
    },
    {
      "cell_type": "markdown",
      "metadata": {
        "id": "xJoWU_N7TIkI"
      },
      "source": [
        "<img src=\"https://user-images.githubusercontent.com/26833433/82952157-51b7db00-9f5d-11ea-8f4b-dda1ffecf992.jpg\">\n",
        "\n",
        "<img src=\"https://i.imgur.com/gb6B4ig.png\" width=\"400\" alt=\"Weights & Biases\" />\n"
      ]
    },
    {
      "cell_type": "markdown",
      "metadata": {
        "id": "n9IeAbHoT43d"
      },
      "source": [
        "# 0. Agradecimientos\n",
        "\n",
        "[Tutorial](https://colab.research.google.com/github/wandb/examples/blob/master/colabs/yolo/Train_and_Debug_YOLOv5_Models_with_Weights_%26_Biases.ipynb) del equipo de WandB"
      ]
    },
    {
      "cell_type": "markdown",
      "metadata": {
        "id": "ODRXsTUzJGF4"
      },
      "source": [
        "# 1. Setup"
      ]
    },
    {
      "cell_type": "markdown",
      "metadata": {
        "id": "5KOb-9AbJF4Z"
      },
      "source": [
        "Primeramente descargaremos el \n",
        "[YOLOv5 GitHub repo](https://github.com/ultralytics/yolov5).\n",
        "\n",
        "Además, también instalamos los requisitos para que funcione YOLOv5."
      ]
    },
    {
      "cell_type": "code",
      "metadata": {
        "id": "fcekuq1GJCLU"
      },
      "source": [
        "%%capture\n",
        "!git clone https://github.com/ultralytics/yolov5.git\n",
        "%cd yolov5\n",
        "!pip install -r requirements.txt # instalamos los requisitos de YOLOv5\n",
        "!pip install wandb # Instalamos wandb"
      ],
      "execution_count": null,
      "outputs": []
    },
    {
      "cell_type": "markdown",
      "metadata": {
        "id": "w7d3yZRFSDcC"
      },
      "source": [
        "# 2. Dataset"
      ]
    },
    {
      "cell_type": "markdown",
      "metadata": {
        "id": "rKJe8yBfSOPd"
      },
      "source": [
        "El siguiente paso es descargar el Dataset.\n",
        "\n",
        "El dataset fue creado manualmente utilizando la herramienta [labelme](https://github.com/wkentaro/labelme). Despues realizamos Data Augmentation en [Roboflow](https://app.roboflow.com/)"
      ]
    },
    {
      "cell_type": "code",
      "metadata": {
        "id": "LP6nDYL9SzZo"
      },
      "source": [
        "!curl -L \"https://app.roboflow.com/ds/o032xnyOfQ?key=F1k7Kq0q2j\" > roboflow.zip; unzip -o roboflow.zip; rm roboflow.zip # Cargamos el dataset de roboflow."
      ],
      "execution_count": null,
      "outputs": []
    },
    {
      "cell_type": "markdown",
      "metadata": {
        "id": "P8FLJ5wDJGDI"
      },
      "source": [
        "# 3. Train"
      ]
    },
    {
      "cell_type": "markdown",
      "metadata": {
        "id": "rkHxVlayJGIo"
      },
      "source": [
        "Para el entrenamiento simplemente ejecutamos el fichero *train.py* con un seguido de argumentos.\n",
        "\n",
        "**YOLOv5** tiene **WandB** integrado en los entrenamientos, esto nos facilicita mucho el seguimiento de las métricas.\n",
        "\n",
        "Para entrenarlo con nuestra data le parametrizamos un fichero data.yaml, el cual contiene la información de las clases y otros requisitos para el mismo.\n",
        "\n",
        "Además otra serie de argumentos que comentamos más abajo.\n",
        "\n"
      ]
    },
    {
      "cell_type": "code",
      "metadata": {
        "id": "t_T1-NBvJGPF"
      },
      "source": [
        "!python train.py \\\n",
        "  --data ../data.yaml \\ # Fichero .yaml con nuestra información del dataset\n",
        "  --epochs 90 \\ # Número de épocas del entrenamiento\n",
        "  --project yolo-wandb-IS \\ # Referenciamos el nombre del proyecto\n",
        "  --upload_dataset \\ # Creamos en wandb un artifact con nuestro dataset\n",
        "  --bbox_interval 1 \\ # Cada cuanto se guarda el bbox para realizar una exploración posterior\n",
        "  --save_period 1 # Cada cuanto se guarda el estado del entrenamiento."
      ],
      "execution_count": null,
      "outputs": []
    }
  ]
}